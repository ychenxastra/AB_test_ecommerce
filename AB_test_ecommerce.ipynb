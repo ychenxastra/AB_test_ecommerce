{
 "cells": [
  {
   "cell_type": "markdown",
   "id": "268c7016",
   "metadata": {},
   "source": [
    "# A/B Testing Outcomes of E-commerce Company\n",
    "\n",
    "## Introduction\n",
    "An e-commerce company aims to boost its conversion rate for product purchases by implementing a new UI change. With an annual conversion rate currently at about 13%, the company hopes this change will achieve at least a 2% improvement. In this notebook, we will evaluate the outcomes of such A/B testing."
   ]
  },
  {
   "cell_type": "code",
   "execution_count": 1,
   "id": "966537c9",
   "metadata": {},
   "outputs": [],
   "source": [
    "import numpy as np\n",
    "import pandas as pd\n",
    "import scipy.stats as stats\n",
    "import statsmodels.stats.api as sms\n",
    "import matplotlib\n",
    "import matplotlib.pyplot as plt\n",
    "import seaborn as sns"
   ]
  },
  {
   "cell_type": "markdown",
   "id": "6019ac5a",
   "metadata": {},
   "source": [
    "## 1. Load data\n",
    "\n",
    "There are two datasets. Let us call the first one \"df_ab\", which includes A/B testing results.    \n",
    "The second one contains user geographic information, i.e., \"df_country\n",
    "\n",
    "### 1.1 A/B Testing"
   ]
  },
  {
   "cell_type": "code",
   "execution_count": 2,
   "id": "8bc9ef54",
   "metadata": {},
   "outputs": [],
   "source": [
    "df_ab = pd.read_csv(\"/home/ychen/Downloads/ab_data.csv\")"
   ]
  },
  {
   "cell_type": "code",
   "execution_count": 3,
   "id": "7fee9312",
   "metadata": {},
   "outputs": [
    {
     "data": {
      "text/html": [
       "<div>\n",
       "<style scoped>\n",
       "    .dataframe tbody tr th:only-of-type {\n",
       "        vertical-align: middle;\n",
       "    }\n",
       "\n",
       "    .dataframe tbody tr th {\n",
       "        vertical-align: top;\n",
       "    }\n",
       "\n",
       "    .dataframe thead th {\n",
       "        text-align: right;\n",
       "    }\n",
       "</style>\n",
       "<table border=\"1\" class=\"dataframe\">\n",
       "  <thead>\n",
       "    <tr style=\"text-align: right;\">\n",
       "      <th></th>\n",
       "      <th>user_id</th>\n",
       "      <th>timestamp</th>\n",
       "      <th>group</th>\n",
       "      <th>landing_page</th>\n",
       "      <th>converted</th>\n",
       "    </tr>\n",
       "  </thead>\n",
       "  <tbody>\n",
       "    <tr>\n",
       "      <th>0</th>\n",
       "      <td>851104</td>\n",
       "      <td>2017-01-21 22:11:48.556739</td>\n",
       "      <td>control</td>\n",
       "      <td>old_page</td>\n",
       "      <td>0</td>\n",
       "    </tr>\n",
       "    <tr>\n",
       "      <th>1</th>\n",
       "      <td>804228</td>\n",
       "      <td>2017-01-12 08:01:45.159739</td>\n",
       "      <td>control</td>\n",
       "      <td>old_page</td>\n",
       "      <td>0</td>\n",
       "    </tr>\n",
       "    <tr>\n",
       "      <th>2</th>\n",
       "      <td>661590</td>\n",
       "      <td>2017-01-11 16:55:06.154213</td>\n",
       "      <td>treatment</td>\n",
       "      <td>new_page</td>\n",
       "      <td>0</td>\n",
       "    </tr>\n",
       "    <tr>\n",
       "      <th>3</th>\n",
       "      <td>853541</td>\n",
       "      <td>2017-01-08 18:28:03.143765</td>\n",
       "      <td>treatment</td>\n",
       "      <td>new_page</td>\n",
       "      <td>0</td>\n",
       "    </tr>\n",
       "    <tr>\n",
       "      <th>4</th>\n",
       "      <td>864975</td>\n",
       "      <td>2017-01-21 01:52:26.210827</td>\n",
       "      <td>control</td>\n",
       "      <td>old_page</td>\n",
       "      <td>1</td>\n",
       "    </tr>\n",
       "  </tbody>\n",
       "</table>\n",
       "</div>"
      ],
      "text/plain": [
       "   user_id                   timestamp      group landing_page  converted\n",
       "0   851104  2017-01-21 22:11:48.556739    control     old_page          0\n",
       "1   804228  2017-01-12 08:01:45.159739    control     old_page          0\n",
       "2   661590  2017-01-11 16:55:06.154213  treatment     new_page          0\n",
       "3   853541  2017-01-08 18:28:03.143765  treatment     new_page          0\n",
       "4   864975  2017-01-21 01:52:26.210827    control     old_page          1"
      ]
     },
     "execution_count": 3,
     "metadata": {},
     "output_type": "execute_result"
    }
   ],
   "source": [
    "df_ab.head()"
   ]
  },
  {
   "cell_type": "code",
   "execution_count": 4,
   "id": "f5ac0b66",
   "metadata": {},
   "outputs": [
    {
     "name": "stdout",
     "output_type": "stream",
     "text": [
      "<class 'pandas.core.frame.DataFrame'>\n",
      "RangeIndex: 294478 entries, 0 to 294477\n",
      "Data columns (total 5 columns):\n",
      " #   Column        Non-Null Count   Dtype \n",
      "---  ------        --------------   ----- \n",
      " 0   user_id       294478 non-null  int64 \n",
      " 1   timestamp     294478 non-null  object\n",
      " 2   group         294478 non-null  object\n",
      " 3   landing_page  294478 non-null  object\n",
      " 4   converted     294478 non-null  int64 \n",
      "dtypes: int64(2), object(3)\n",
      "memory usage: 11.2+ MB\n"
     ]
    }
   ],
   "source": [
    "df_ab.info()"
   ]
  },
  {
   "cell_type": "markdown",
   "id": "d45620aa",
   "metadata": {},
   "source": [
    "- user_id: User ID.\n",
    "- timestamp: Timestamp of the user's visit to the page.\n",
    "- group: Two groups are defined; 'treatment', which refers to users who should see the new UI, and 'control', which pertains to users seeing the old design.\n",
    "- landing_page: Specifies whether the user landed on the new or old page.\n",
    "- converted: Indicates whether a conversion was successful (1) or not (0), such as purchasing a product."
   ]
  },
  {
   "cell_type": "code",
   "execution_count": 5,
   "id": "9ab0bca5",
   "metadata": {},
   "outputs": [
    {
     "data": {
      "text/plain": [
       "treatment    147276\n",
       "control      147202\n",
       "Name: group, dtype: int64"
      ]
     },
     "execution_count": 5,
     "metadata": {},
     "output_type": "execute_result"
    }
   ],
   "source": [
    "df_ab[\"group\"].value_counts()"
   ]
  },
  {
   "cell_type": "markdown",
   "id": "a6390f75",
   "metadata": {},
   "source": [
    "The two groups have slightly different numbers of users. "
   ]
  },
  {
   "cell_type": "code",
   "execution_count": 6,
   "id": "1cb65dcd",
   "metadata": {},
   "outputs": [
    {
     "data": {
      "text/plain": [
       "old_page    147239\n",
       "new_page    147239\n",
       "Name: landing_page, dtype: int64"
      ]
     },
     "execution_count": 6,
     "metadata": {},
     "output_type": "execute_result"
    }
   ],
   "source": [
    "df_ab[\"landing_page\"].value_counts()"
   ]
  },
  {
   "cell_type": "markdown",
   "id": "a5f906fd",
   "metadata": {},
   "source": [
    "However, the landing page groups are equally split.\n",
    "These data are supposed to correspond to the respective groups.\n",
    "We will process and clean the data in the next section.\n",
    "\n",
    "\n",
    "### 1.2 Users Geographic"
   ]
  },
  {
   "cell_type": "code",
   "execution_count": 7,
   "id": "e216a495",
   "metadata": {},
   "outputs": [],
   "source": [
    "df_country = pd.read_csv(\"/home/ychen/Downloads/countries_ab.csv\")"
   ]
  },
  {
   "cell_type": "code",
   "execution_count": 8,
   "id": "89819957",
   "metadata": {},
   "outputs": [
    {
     "data": {
      "text/html": [
       "<div>\n",
       "<style scoped>\n",
       "    .dataframe tbody tr th:only-of-type {\n",
       "        vertical-align: middle;\n",
       "    }\n",
       "\n",
       "    .dataframe tbody tr th {\n",
       "        vertical-align: top;\n",
       "    }\n",
       "\n",
       "    .dataframe thead th {\n",
       "        text-align: right;\n",
       "    }\n",
       "</style>\n",
       "<table border=\"1\" class=\"dataframe\">\n",
       "  <thead>\n",
       "    <tr style=\"text-align: right;\">\n",
       "      <th></th>\n",
       "      <th>id</th>\n",
       "      <th>country</th>\n",
       "    </tr>\n",
       "  </thead>\n",
       "  <tbody>\n",
       "    <tr>\n",
       "      <th>0</th>\n",
       "      <td>834778</td>\n",
       "      <td>UK</td>\n",
       "    </tr>\n",
       "    <tr>\n",
       "      <th>1</th>\n",
       "      <td>928468</td>\n",
       "      <td>US</td>\n",
       "    </tr>\n",
       "    <tr>\n",
       "      <th>2</th>\n",
       "      <td>822059</td>\n",
       "      <td>UK</td>\n",
       "    </tr>\n",
       "    <tr>\n",
       "      <th>3</th>\n",
       "      <td>711597</td>\n",
       "      <td>UK</td>\n",
       "    </tr>\n",
       "    <tr>\n",
       "      <th>4</th>\n",
       "      <td>710616</td>\n",
       "      <td>UK</td>\n",
       "    </tr>\n",
       "  </tbody>\n",
       "</table>\n",
       "</div>"
      ],
      "text/plain": [
       "       id country\n",
       "0  834778      UK\n",
       "1  928468      US\n",
       "2  822059      UK\n",
       "3  711597      UK\n",
       "4  710616      UK"
      ]
     },
     "execution_count": 8,
     "metadata": {},
     "output_type": "execute_result"
    }
   ],
   "source": [
    "df_country.head()"
   ]
  },
  {
   "cell_type": "code",
   "execution_count": 9,
   "id": "ac30dc0c",
   "metadata": {},
   "outputs": [
    {
     "data": {
      "text/plain": [
       "US    203619\n",
       "UK     72466\n",
       "CA     14499\n",
       "Name: country, dtype: int64"
      ]
     },
     "execution_count": 9,
     "metadata": {},
     "output_type": "execute_result"
    }
   ],
   "source": [
    "df_country[\"country\"].value_counts()"
   ]
  },
  {
   "cell_type": "markdown",
   "id": "10bf7363",
   "metadata": {},
   "source": [
    "Users come from three countries in this A/B Testing, or, this E-commerce commpany actually runs only for these three areas (which might be impossible)."
   ]
  },
  {
   "cell_type": "markdown",
   "id": "4fd0d628",
   "metadata": {},
   "source": [
    "---\n",
    "## 2. Process and Clean"
   ]
  },
  {
   "cell_type": "markdown",
   "id": "76dbd416",
   "metadata": {},
   "source": [
    "Before moving onto cleaning part, let us combine these two dataframes first."
   ]
  },
  {
   "cell_type": "code",
   "execution_count": 10,
   "id": "a3a7d6f6",
   "metadata": {},
   "outputs": [
    {
     "data": {
      "text/html": [
       "<div>\n",
       "<style scoped>\n",
       "    .dataframe tbody tr th:only-of-type {\n",
       "        vertical-align: middle;\n",
       "    }\n",
       "\n",
       "    .dataframe tbody tr th {\n",
       "        vertical-align: top;\n",
       "    }\n",
       "\n",
       "    .dataframe thead th {\n",
       "        text-align: right;\n",
       "    }\n",
       "</style>\n",
       "<table border=\"1\" class=\"dataframe\">\n",
       "  <thead>\n",
       "    <tr style=\"text-align: right;\">\n",
       "      <th></th>\n",
       "      <th>user_id</th>\n",
       "      <th>timestamp</th>\n",
       "      <th>group</th>\n",
       "      <th>landing_page</th>\n",
       "      <th>converted</th>\n",
       "      <th>country</th>\n",
       "    </tr>\n",
       "  </thead>\n",
       "  <tbody>\n",
       "    <tr>\n",
       "      <th>0</th>\n",
       "      <td>851104</td>\n",
       "      <td>2017-01-21 22:11:48.556739</td>\n",
       "      <td>control</td>\n",
       "      <td>old_page</td>\n",
       "      <td>0</td>\n",
       "      <td>US</td>\n",
       "    </tr>\n",
       "    <tr>\n",
       "      <th>1</th>\n",
       "      <td>804228</td>\n",
       "      <td>2017-01-12 08:01:45.159739</td>\n",
       "      <td>control</td>\n",
       "      <td>old_page</td>\n",
       "      <td>0</td>\n",
       "      <td>US</td>\n",
       "    </tr>\n",
       "    <tr>\n",
       "      <th>2</th>\n",
       "      <td>661590</td>\n",
       "      <td>2017-01-11 16:55:06.154213</td>\n",
       "      <td>treatment</td>\n",
       "      <td>new_page</td>\n",
       "      <td>0</td>\n",
       "      <td>US</td>\n",
       "    </tr>\n",
       "    <tr>\n",
       "      <th>3</th>\n",
       "      <td>853541</td>\n",
       "      <td>2017-01-08 18:28:03.143765</td>\n",
       "      <td>treatment</td>\n",
       "      <td>new_page</td>\n",
       "      <td>0</td>\n",
       "      <td>US</td>\n",
       "    </tr>\n",
       "    <tr>\n",
       "      <th>4</th>\n",
       "      <td>864975</td>\n",
       "      <td>2017-01-21 01:52:26.210827</td>\n",
       "      <td>control</td>\n",
       "      <td>old_page</td>\n",
       "      <td>1</td>\n",
       "      <td>US</td>\n",
       "    </tr>\n",
       "  </tbody>\n",
       "</table>\n",
       "</div>"
      ],
      "text/plain": [
       "   user_id                   timestamp      group landing_page  converted  \\\n",
       "0   851104  2017-01-21 22:11:48.556739    control     old_page          0   \n",
       "1   804228  2017-01-12 08:01:45.159739    control     old_page          0   \n",
       "2   661590  2017-01-11 16:55:06.154213  treatment     new_page          0   \n",
       "3   853541  2017-01-08 18:28:03.143765  treatment     new_page          0   \n",
       "4   864975  2017-01-21 01:52:26.210827    control     old_page          1   \n",
       "\n",
       "  country  \n",
       "0      US  \n",
       "1      US  \n",
       "2      US  \n",
       "3      US  \n",
       "4      US  "
      ]
     },
     "execution_count": 10,
     "metadata": {},
     "output_type": "execute_result"
    }
   ],
   "source": [
    "df = df_ab.merge(df_country, how='left', left_on='user_id', right_on='id')[['user_id','timestamp','group',\n",
    "                                                                            'landing_page','converted','country']]\n",
    "df.head()"
   ]
  },
  {
   "cell_type": "markdown",
   "id": "a98d233b",
   "metadata": {},
   "source": [
    "Now let us check if there are values with NaN.\n",
    "\n",
    "### 2.1 NaN"
   ]
  },
  {
   "cell_type": "code",
   "execution_count": 11,
   "id": "87666636",
   "metadata": {},
   "outputs": [
    {
     "data": {
      "text/plain": [
       "user_id         0\n",
       "timestamp       0\n",
       "group           0\n",
       "landing_page    0\n",
       "converted       0\n",
       "country         0\n",
       "dtype: int64"
      ]
     },
     "execution_count": 11,
     "metadata": {},
     "output_type": "execute_result"
    }
   ],
   "source": [
    "df.isnull().sum()"
   ]
  },
  {
   "cell_type": "markdown",
   "id": "1594852b",
   "metadata": {},
   "source": [
    "As aforementioned, there are 294478 entries in \"df_ab\", while \"df_country\" only have 290584 entries.     \n",
    "These two datasets are inconsistent. Let us take a look in detail."
   ]
  },
  {
   "cell_type": "code",
   "execution_count": 12,
   "id": "0ae5b202",
   "metadata": {},
   "outputs": [
    {
     "name": "stdout",
     "output_type": "stream",
     "text": [
      "How many unique id in df_ab?  290584\n",
      "How many unique id in df_ctounry?  290584\n"
     ]
    }
   ],
   "source": [
    "print(\"How many unique id in df_ab? \", df_ab['user_id'].nunique())\n",
    "print(\"How many unique id in df_ctounry? \", df_country['id'].nunique())"
   ]
  },
  {
   "cell_type": "markdown",
   "id": "0b06d24c",
   "metadata": {},
   "source": [
    "There must be some duplicated ids."
   ]
  },
  {
   "cell_type": "markdown",
   "id": "e30e65ff",
   "metadata": {},
   "source": [
    "### 2.2 Duplicated values"
   ]
  },
  {
   "cell_type": "code",
   "execution_count": 13,
   "id": "29d4440b",
   "metadata": {},
   "outputs": [
    {
     "data": {
      "text/plain": [
       "0"
      ]
     },
     "execution_count": 13,
     "metadata": {},
     "output_type": "execute_result"
    }
   ],
   "source": [
    "df.duplicated().sum()"
   ]
  },
  {
   "cell_type": "code",
   "execution_count": 14,
   "id": "0bd37b7b",
   "metadata": {},
   "outputs": [
    {
     "data": {
      "text/plain": [
       "3894"
      ]
     },
     "execution_count": 14,
     "metadata": {},
     "output_type": "execute_result"
    }
   ],
   "source": [
    "df['user_id'].duplicated().sum()"
   ]
  },
  {
   "cell_type": "markdown",
   "id": "3f45a306",
   "metadata": {},
   "source": [
    "3894 users have seen both the new and old pages, or other situations...\n",
    "\n",
    "Let us take a further look."
   ]
  },
  {
   "cell_type": "code",
   "execution_count": 15,
   "id": "308d9b57",
   "metadata": {},
   "outputs": [
    {
     "data": {
      "text/plain": [
       "2656      698120\n",
       "2893      773192\n",
       "7500      899953\n",
       "8036      790934\n",
       "10218     633793\n",
       "           ...  \n",
       "294308    905197\n",
       "294309    787083\n",
       "294328    641570\n",
       "294331    689637\n",
       "294355    744456\n",
       "Name: user_id, Length: 3894, dtype: int64"
      ]
     },
     "execution_count": 15,
     "metadata": {},
     "output_type": "execute_result"
    }
   ],
   "source": [
    "df[df['user_id'].duplicated()]['user_id']"
   ]
  },
  {
   "cell_type": "code",
   "execution_count": 16,
   "id": "49dfdc96",
   "metadata": {},
   "outputs": [
    {
     "data": {
      "text/html": [
       "<div>\n",
       "<style scoped>\n",
       "    .dataframe tbody tr th:only-of-type {\n",
       "        vertical-align: middle;\n",
       "    }\n",
       "\n",
       "    .dataframe tbody tr th {\n",
       "        vertical-align: top;\n",
       "    }\n",
       "\n",
       "    .dataframe thead th {\n",
       "        text-align: right;\n",
       "    }\n",
       "</style>\n",
       "<table border=\"1\" class=\"dataframe\">\n",
       "  <thead>\n",
       "    <tr style=\"text-align: right;\">\n",
       "      <th></th>\n",
       "      <th>user_id</th>\n",
       "      <th>timestamp</th>\n",
       "      <th>group</th>\n",
       "      <th>landing_page</th>\n",
       "      <th>converted</th>\n",
       "      <th>country</th>\n",
       "    </tr>\n",
       "  </thead>\n",
       "  <tbody>\n",
       "    <tr>\n",
       "      <th>988</th>\n",
       "      <td>698120</td>\n",
       "      <td>2017-01-22 07:09:37.540970</td>\n",
       "      <td>control</td>\n",
       "      <td>new_page</td>\n",
       "      <td>0</td>\n",
       "      <td>US</td>\n",
       "    </tr>\n",
       "    <tr>\n",
       "      <th>2656</th>\n",
       "      <td>698120</td>\n",
       "      <td>2017-01-15 17:13:42.602796</td>\n",
       "      <td>control</td>\n",
       "      <td>old_page</td>\n",
       "      <td>0</td>\n",
       "      <td>US</td>\n",
       "    </tr>\n",
       "  </tbody>\n",
       "</table>\n",
       "</div>"
      ],
      "text/plain": [
       "      user_id                   timestamp    group landing_page  converted  \\\n",
       "988    698120  2017-01-22 07:09:37.540970  control     new_page          0   \n",
       "2656   698120  2017-01-15 17:13:42.602796  control     old_page          0   \n",
       "\n",
       "     country  \n",
       "988       US  \n",
       "2656      US  "
      ]
     },
     "execution_count": 16,
     "metadata": {},
     "output_type": "execute_result"
    }
   ],
   "source": [
    "df[df['user_id'] == 698120]"
   ]
  },
  {
   "cell_type": "markdown",
   "id": "2a705547",
   "metadata": {},
   "source": [
    "The user 698120 has seen both the new and old pages."
   ]
  },
  {
   "cell_type": "code",
   "execution_count": 17,
   "id": "89fd3312",
   "metadata": {},
   "outputs": [
    {
     "data": {
      "text/html": [
       "<div>\n",
       "<style scoped>\n",
       "    .dataframe tbody tr th:only-of-type {\n",
       "        vertical-align: middle;\n",
       "    }\n",
       "\n",
       "    .dataframe tbody tr th {\n",
       "        vertical-align: top;\n",
       "    }\n",
       "\n",
       "    .dataframe thead th {\n",
       "        text-align: right;\n",
       "    }\n",
       "</style>\n",
       "<table border=\"1\" class=\"dataframe\">\n",
       "  <thead>\n",
       "    <tr style=\"text-align: right;\">\n",
       "      <th></th>\n",
       "      <th>user_id</th>\n",
       "      <th>timestamp</th>\n",
       "      <th>group</th>\n",
       "      <th>landing_page</th>\n",
       "      <th>converted</th>\n",
       "      <th>country</th>\n",
       "    </tr>\n",
       "  </thead>\n",
       "  <tbody>\n",
       "    <tr>\n",
       "      <th>1899</th>\n",
       "      <td>773192</td>\n",
       "      <td>2017-01-09 05:37:58.781806</td>\n",
       "      <td>treatment</td>\n",
       "      <td>new_page</td>\n",
       "      <td>0</td>\n",
       "      <td>US</td>\n",
       "    </tr>\n",
       "    <tr>\n",
       "      <th>2893</th>\n",
       "      <td>773192</td>\n",
       "      <td>2017-01-14 02:55:59.590927</td>\n",
       "      <td>treatment</td>\n",
       "      <td>new_page</td>\n",
       "      <td>0</td>\n",
       "      <td>US</td>\n",
       "    </tr>\n",
       "  </tbody>\n",
       "</table>\n",
       "</div>"
      ],
      "text/plain": [
       "      user_id                   timestamp      group landing_page  converted  \\\n",
       "1899   773192  2017-01-09 05:37:58.781806  treatment     new_page          0   \n",
       "2893   773192  2017-01-14 02:55:59.590927  treatment     new_page          0   \n",
       "\n",
       "     country  \n",
       "1899      US  \n",
       "2893      US  "
      ]
     },
     "execution_count": 17,
     "metadata": {},
     "output_type": "execute_result"
    }
   ],
   "source": [
    "df[df['user_id'] == 773192]"
   ]
  },
  {
   "cell_type": "code",
   "execution_count": 18,
   "id": "ab39db38",
   "metadata": {},
   "outputs": [
    {
     "data": {
      "text/html": [
       "<div>\n",
       "<style scoped>\n",
       "    .dataframe tbody tr th:only-of-type {\n",
       "        vertical-align: middle;\n",
       "    }\n",
       "\n",
       "    .dataframe tbody tr th {\n",
       "        vertical-align: top;\n",
       "    }\n",
       "\n",
       "    .dataframe thead th {\n",
       "        text-align: right;\n",
       "    }\n",
       "</style>\n",
       "<table border=\"1\" class=\"dataframe\">\n",
       "  <thead>\n",
       "    <tr style=\"text-align: right;\">\n",
       "      <th></th>\n",
       "      <th>user_id</th>\n",
       "      <th>timestamp</th>\n",
       "      <th>group</th>\n",
       "      <th>landing_page</th>\n",
       "      <th>converted</th>\n",
       "      <th>country</th>\n",
       "    </tr>\n",
       "  </thead>\n",
       "  <tbody>\n",
       "    <tr>\n",
       "      <th>3489</th>\n",
       "      <td>899953</td>\n",
       "      <td>2017-01-05 05:36:02.120641</td>\n",
       "      <td>treatment</td>\n",
       "      <td>new_page</td>\n",
       "      <td>0</td>\n",
       "      <td>CA</td>\n",
       "    </tr>\n",
       "    <tr>\n",
       "      <th>7500</th>\n",
       "      <td>899953</td>\n",
       "      <td>2017-01-07 03:06:54.068237</td>\n",
       "      <td>control</td>\n",
       "      <td>new_page</td>\n",
       "      <td>0</td>\n",
       "      <td>CA</td>\n",
       "    </tr>\n",
       "  </tbody>\n",
       "</table>\n",
       "</div>"
      ],
      "text/plain": [
       "      user_id                   timestamp      group landing_page  converted  \\\n",
       "3489   899953  2017-01-05 05:36:02.120641  treatment     new_page          0   \n",
       "7500   899953  2017-01-07 03:06:54.068237    control     new_page          0   \n",
       "\n",
       "     country  \n",
       "3489      CA  \n",
       "7500      CA  "
      ]
     },
     "execution_count": 18,
     "metadata": {},
     "output_type": "execute_result"
    }
   ],
   "source": [
    "df[df['user_id'] == 899953]"
   ]
  },
  {
   "cell_type": "markdown",
   "id": "99ecfb86",
   "metadata": {},
   "source": [
    "Both of users 773192 and 899953 have visited the new page twice.\n",
    "\n",
    "Since we have enough data, we can now delete these entries."
   ]
  },
  {
   "cell_type": "code",
   "execution_count": 19,
   "id": "b2105c52",
   "metadata": {},
   "outputs": [
    {
     "data": {
      "text/plain": [
       "7788"
      ]
     },
     "execution_count": 19,
     "metadata": {},
     "output_type": "execute_result"
    }
   ],
   "source": [
    "del_id = df[df['user_id'].duplicated()]['user_id'].values\n",
    "df['user_id'].isin(del_id).sum()"
   ]
  },
  {
   "cell_type": "code",
   "execution_count": 20,
   "id": "d9c86571",
   "metadata": {},
   "outputs": [
    {
     "name": "stdout",
     "output_type": "stream",
     "text": [
      "How many entries after removing?  286690\n"
     ]
    },
    {
     "data": {
      "text/html": [
       "<div>\n",
       "<style scoped>\n",
       "    .dataframe tbody tr th:only-of-type {\n",
       "        vertical-align: middle;\n",
       "    }\n",
       "\n",
       "    .dataframe tbody tr th {\n",
       "        vertical-align: top;\n",
       "    }\n",
       "\n",
       "    .dataframe thead th {\n",
       "        text-align: right;\n",
       "    }\n",
       "</style>\n",
       "<table border=\"1\" class=\"dataframe\">\n",
       "  <thead>\n",
       "    <tr style=\"text-align: right;\">\n",
       "      <th></th>\n",
       "      <th>user_id</th>\n",
       "      <th>timestamp</th>\n",
       "      <th>group</th>\n",
       "      <th>landing_page</th>\n",
       "      <th>converted</th>\n",
       "      <th>country</th>\n",
       "    </tr>\n",
       "  </thead>\n",
       "  <tbody>\n",
       "    <tr>\n",
       "      <th>0</th>\n",
       "      <td>851104</td>\n",
       "      <td>2017-01-21 22:11:48.556739</td>\n",
       "      <td>control</td>\n",
       "      <td>old_page</td>\n",
       "      <td>0</td>\n",
       "      <td>US</td>\n",
       "    </tr>\n",
       "    <tr>\n",
       "      <th>1</th>\n",
       "      <td>804228</td>\n",
       "      <td>2017-01-12 08:01:45.159739</td>\n",
       "      <td>control</td>\n",
       "      <td>old_page</td>\n",
       "      <td>0</td>\n",
       "      <td>US</td>\n",
       "    </tr>\n",
       "    <tr>\n",
       "      <th>2</th>\n",
       "      <td>661590</td>\n",
       "      <td>2017-01-11 16:55:06.154213</td>\n",
       "      <td>treatment</td>\n",
       "      <td>new_page</td>\n",
       "      <td>0</td>\n",
       "      <td>US</td>\n",
       "    </tr>\n",
       "    <tr>\n",
       "      <th>3</th>\n",
       "      <td>853541</td>\n",
       "      <td>2017-01-08 18:28:03.143765</td>\n",
       "      <td>treatment</td>\n",
       "      <td>new_page</td>\n",
       "      <td>0</td>\n",
       "      <td>US</td>\n",
       "    </tr>\n",
       "    <tr>\n",
       "      <th>4</th>\n",
       "      <td>864975</td>\n",
       "      <td>2017-01-21 01:52:26.210827</td>\n",
       "      <td>control</td>\n",
       "      <td>old_page</td>\n",
       "      <td>1</td>\n",
       "      <td>US</td>\n",
       "    </tr>\n",
       "  </tbody>\n",
       "</table>\n",
       "</div>"
      ],
      "text/plain": [
       "   user_id                   timestamp      group landing_page  converted  \\\n",
       "0   851104  2017-01-21 22:11:48.556739    control     old_page          0   \n",
       "1   804228  2017-01-12 08:01:45.159739    control     old_page          0   \n",
       "2   661590  2017-01-11 16:55:06.154213  treatment     new_page          0   \n",
       "3   853541  2017-01-08 18:28:03.143765  treatment     new_page          0   \n",
       "4   864975  2017-01-21 01:52:26.210827    control     old_page          1   \n",
       "\n",
       "  country  \n",
       "0      US  \n",
       "1      US  \n",
       "2      US  \n",
       "3      US  \n",
       "4      US  "
      ]
     },
     "execution_count": 20,
     "metadata": {},
     "output_type": "execute_result"
    }
   ],
   "source": [
    "df = df[~df['user_id'].isin(del_id)]\n",
    "print(\"How many entries after removing? \", len(df))\n",
    "df.head()"
   ]
  },
  {
   "cell_type": "markdown",
   "id": "5392a301",
   "metadata": {},
   "source": [
    "### 2.3 Timestamp\n",
    "\n",
    "First, let us reformat timestamp from string to datetime.    \n",
    "Then add a few parameters, such as weekday, am/pm."
   ]
  },
  {
   "cell_type": "code",
   "execution_count": 21,
   "id": "9123409e",
   "metadata": {},
   "outputs": [],
   "source": [
    "df['timestamp'] = pd.to_datetime(df['timestamp'])"
   ]
  },
  {
   "cell_type": "code",
   "execution_count": 22,
   "id": "659398e0",
   "metadata": {},
   "outputs": [
    {
     "data": {
      "text/html": [
       "<div>\n",
       "<style scoped>\n",
       "    .dataframe tbody tr th:only-of-type {\n",
       "        vertical-align: middle;\n",
       "    }\n",
       "\n",
       "    .dataframe tbody tr th {\n",
       "        vertical-align: top;\n",
       "    }\n",
       "\n",
       "    .dataframe thead th {\n",
       "        text-align: right;\n",
       "    }\n",
       "</style>\n",
       "<table border=\"1\" class=\"dataframe\">\n",
       "  <thead>\n",
       "    <tr style=\"text-align: right;\">\n",
       "      <th></th>\n",
       "      <th>user_id</th>\n",
       "      <th>timestamp</th>\n",
       "      <th>group</th>\n",
       "      <th>landing_page</th>\n",
       "      <th>converted</th>\n",
       "      <th>country</th>\n",
       "      <th>weekday</th>\n",
       "      <th>weekday_name</th>\n",
       "      <th>am_pm</th>\n",
       "    </tr>\n",
       "  </thead>\n",
       "  <tbody>\n",
       "    <tr>\n",
       "      <th>0</th>\n",
       "      <td>851104</td>\n",
       "      <td>2017-01-21 22:11:48.556739</td>\n",
       "      <td>control</td>\n",
       "      <td>old_page</td>\n",
       "      <td>0</td>\n",
       "      <td>US</td>\n",
       "      <td>5</td>\n",
       "      <td>Saturday</td>\n",
       "      <td>PM</td>\n",
       "    </tr>\n",
       "    <tr>\n",
       "      <th>1</th>\n",
       "      <td>804228</td>\n",
       "      <td>2017-01-12 08:01:45.159739</td>\n",
       "      <td>control</td>\n",
       "      <td>old_page</td>\n",
       "      <td>0</td>\n",
       "      <td>US</td>\n",
       "      <td>3</td>\n",
       "      <td>Thursday</td>\n",
       "      <td>AM</td>\n",
       "    </tr>\n",
       "    <tr>\n",
       "      <th>2</th>\n",
       "      <td>661590</td>\n",
       "      <td>2017-01-11 16:55:06.154213</td>\n",
       "      <td>treatment</td>\n",
       "      <td>new_page</td>\n",
       "      <td>0</td>\n",
       "      <td>US</td>\n",
       "      <td>2</td>\n",
       "      <td>Wednesday</td>\n",
       "      <td>PM</td>\n",
       "    </tr>\n",
       "    <tr>\n",
       "      <th>3</th>\n",
       "      <td>853541</td>\n",
       "      <td>2017-01-08 18:28:03.143765</td>\n",
       "      <td>treatment</td>\n",
       "      <td>new_page</td>\n",
       "      <td>0</td>\n",
       "      <td>US</td>\n",
       "      <td>6</td>\n",
       "      <td>Sunday</td>\n",
       "      <td>PM</td>\n",
       "    </tr>\n",
       "    <tr>\n",
       "      <th>4</th>\n",
       "      <td>864975</td>\n",
       "      <td>2017-01-21 01:52:26.210827</td>\n",
       "      <td>control</td>\n",
       "      <td>old_page</td>\n",
       "      <td>1</td>\n",
       "      <td>US</td>\n",
       "      <td>5</td>\n",
       "      <td>Saturday</td>\n",
       "      <td>AM</td>\n",
       "    </tr>\n",
       "  </tbody>\n",
       "</table>\n",
       "</div>"
      ],
      "text/plain": [
       "   user_id                  timestamp      group landing_page  converted  \\\n",
       "0   851104 2017-01-21 22:11:48.556739    control     old_page          0   \n",
       "1   804228 2017-01-12 08:01:45.159739    control     old_page          0   \n",
       "2   661590 2017-01-11 16:55:06.154213  treatment     new_page          0   \n",
       "3   853541 2017-01-08 18:28:03.143765  treatment     new_page          0   \n",
       "4   864975 2017-01-21 01:52:26.210827    control     old_page          1   \n",
       "\n",
       "  country  weekday weekday_name am_pm  \n",
       "0      US        5     Saturday    PM  \n",
       "1      US        3     Thursday    AM  \n",
       "2      US        2    Wednesday    PM  \n",
       "3      US        6       Sunday    PM  \n",
       "4      US        5     Saturday    AM  "
      ]
     },
     "execution_count": 22,
     "metadata": {},
     "output_type": "execute_result"
    }
   ],
   "source": [
    "df['weekday'] = df['timestamp'].apply(lambda x: x.weekday())\n",
    "df['weekday_name'] = df['timestamp'].apply(lambda x: x.strftime('%A'))\n",
    "df['am_pm'] = df['timestamp'].apply(lambda x: x.strftime('%p'))\n",
    "df.head()"
   ]
  },
  {
   "cell_type": "code",
   "execution_count": 23,
   "id": "9e00bb54",
   "metadata": {},
   "outputs": [
    {
     "name": "stdout",
     "output_type": "stream",
     "text": [
      "<class 'pandas.core.frame.DataFrame'>\n",
      "Int64Index: 286690 entries, 0 to 294477\n",
      "Data columns (total 9 columns):\n",
      " #   Column        Non-Null Count   Dtype         \n",
      "---  ------        --------------   -----         \n",
      " 0   user_id       286690 non-null  int64         \n",
      " 1   timestamp     286690 non-null  datetime64[ns]\n",
      " 2   group         286690 non-null  object        \n",
      " 3   landing_page  286690 non-null  object        \n",
      " 4   converted     286690 non-null  int64         \n",
      " 5   country       286690 non-null  object        \n",
      " 6   weekday       286690 non-null  int64         \n",
      " 7   weekday_name  286690 non-null  object        \n",
      " 8   am_pm         286690 non-null  object        \n",
      "dtypes: datetime64[ns](1), int64(3), object(5)\n",
      "memory usage: 21.9+ MB\n"
     ]
    }
   ],
   "source": [
    "df.info()"
   ]
  },
  {
   "cell_type": "code",
   "execution_count": 24,
   "id": "53e5b213",
   "metadata": {},
   "outputs": [
    {
     "name": "stdout",
     "output_type": "stream",
     "text": [
      "How long this test has been implemented? \n",
      "23 days\n"
     ]
    }
   ],
   "source": [
    "print(\"How long this test has been implemented? \\n{} days\".format(len(df['timestamp'].dt.day.unique())))"
   ]
  },
  {
   "cell_type": "markdown",
   "id": "1b8c2a72",
   "metadata": {},
   "source": [
    "### 2.4 Final Check\n",
    "Make sure the control group accesses the old page, and the experimental group visits the new page."
   ]
  },
  {
   "cell_type": "code",
   "execution_count": 25,
   "id": "d668f165",
   "metadata": {},
   "outputs": [
    {
     "data": {
      "text/html": [
       "<div>\n",
       "<style scoped>\n",
       "    .dataframe tbody tr th:only-of-type {\n",
       "        vertical-align: middle;\n",
       "    }\n",
       "\n",
       "    .dataframe tbody tr th {\n",
       "        vertical-align: top;\n",
       "    }\n",
       "\n",
       "    .dataframe thead th {\n",
       "        text-align: right;\n",
       "    }\n",
       "</style>\n",
       "<table border=\"1\" class=\"dataframe\">\n",
       "  <thead>\n",
       "    <tr style=\"text-align: right;\">\n",
       "      <th>landing_page</th>\n",
       "      <th>new_page</th>\n",
       "      <th>old_page</th>\n",
       "    </tr>\n",
       "    <tr>\n",
       "      <th>group</th>\n",
       "      <th></th>\n",
       "      <th></th>\n",
       "    </tr>\n",
       "  </thead>\n",
       "  <tbody>\n",
       "    <tr>\n",
       "      <th>control</th>\n",
       "      <td>0</td>\n",
       "      <td>143293</td>\n",
       "    </tr>\n",
       "    <tr>\n",
       "      <th>treatment</th>\n",
       "      <td>143397</td>\n",
       "      <td>0</td>\n",
       "    </tr>\n",
       "  </tbody>\n",
       "</table>\n",
       "</div>"
      ],
      "text/plain": [
       "landing_page  new_page  old_page\n",
       "group                           \n",
       "control              0    143293\n",
       "treatment       143397         0"
      ]
     },
     "execution_count": 25,
     "metadata": {},
     "output_type": "execute_result"
    }
   ],
   "source": [
    "pd.crosstab(df['group'], df['landing_page'])"
   ]
  },
  {
   "cell_type": "markdown",
   "id": "a0dfb877",
   "metadata": {},
   "source": [
    "So far, we can confirm that all users in the control group visited the old page, while those in the treatment group visited the new page."
   ]
  },
  {
   "cell_type": "markdown",
   "id": "585ef3fe",
   "metadata": {},
   "source": [
    "---\n",
    "## 3. Visualize data\n",
    "\n",
    "### 3.1 Parameters versus Country"
   ]
  },
  {
   "cell_type": "code",
   "execution_count": 26,
   "id": "ea5dcf97",
   "metadata": {
    "scrolled": false
   },
   "outputs": [
    {
     "data": {
      "image/png": "[encoded data removed]",
      "text/plain": [
       "<Figure size 1600x500 with 3 Axes>"
      ]
     },
     "metadata": {},
     "output_type": "display_data"
    }
   ],
   "source": [
    "plt.style.use('seaborn')\n",
    "fig, ax = plt.subplots(1, 3, figsize=(16, 5))\n",
    "sns.countplot(x='country', data=df, hue='country', ax=ax[0], palette='RdBu_r')\n",
    "ax[0].set_title('Count for Each Country')\n",
    "ax[0].set_xlabel('Country')\n",
    "ax[0].set_ylabel('Count')\n",
    "\n",
    "sns.countplot(x='country', data=df, hue='group', ax=ax[1], palette='RdBu_r')\n",
    "ax[1].set_title('Group for Each Country')\n",
    "ax[1].set_xlabel('Country')\n",
    "ax[1].set_ylabel('Count')\n",
    "\n",
    "sns.countplot(x='country', data=df, hue='converted', ax=ax[2], palette='RdBu_r')\n",
    "ax[2].set_title('Conversion Rate for Each Country')\n",
    "ax[2].set_xlabel('Country')\n",
    "ax[2].set_ylabel('Count')\n",
    "\n",
    "plt.tight_layout()\n",
    "plt.show()"
   ]
  },
  {
   "cell_type": "markdown",
   "id": "5b8cf224",
   "metadata": {},
   "source": [
    "It is unclear whether the UK or the US has a slightly higher conversion rate. Let's explore this from another perspective."
   ]
  },
  {
   "cell_type": "code",
   "execution_count": 27,
   "id": "74acd1b7",
   "metadata": {},
   "outputs": [
    {
     "data": {
      "image/png": "[encoded data removed]",
      "text/plain": [
       "<Figure size 600x300 with 1 Axes>"
      ]
     },
     "metadata": {},
     "output_type": "display_data"
    }
   ],
   "source": [
    "df_rate_country = df.groupby('country').mean()\n",
    "fig, ax = plt.subplots(1, 1, figsize=(6, 3))\n",
    "sns.barplot(x='country', y='converted', data=df_rate_country, hue='converted', palette='RdBu')\n",
    "ax.set_title('Mean Conversion Rate For Each Country')\n",
    "ax.legend(title=\"Conversion Rate\", fontsize='small', bbox_to_anchor=(1.05, 1))\n",
    "ax.set_xlabel('Country')\n",
    "ax.set_ylabel('Conversion Rate')\n",
    "ax.set_ylim([0.1,0.13])\n",
    "plt.tight_layout()\n",
    "plt.show()"
   ]
  },
  {
   "cell_type": "markdown",
   "id": "10ded997",
   "metadata": {},
   "source": [
    "The answer is UK!"
   ]
  },
  {
   "cell_type": "markdown",
   "id": "168996e0",
   "metadata": {},
   "source": [
    "### 3.2 Parameters versus Time"
   ]
  },
  {
   "cell_type": "code",
   "execution_count": 28,
   "id": "c2523bb3",
   "metadata": {},
   "outputs": [
    {
     "data": {
      "text/html": [
       "<div>\n",
       "<style scoped>\n",
       "    .dataframe tbody tr th:only-of-type {\n",
       "        vertical-align: middle;\n",
       "    }\n",
       "\n",
       "    .dataframe tbody tr th {\n",
       "        vertical-align: top;\n",
       "    }\n",
       "\n",
       "    .dataframe thead th {\n",
       "        text-align: right;\n",
       "    }\n",
       "</style>\n",
       "<table border=\"1\" class=\"dataframe\">\n",
       "  <thead>\n",
       "    <tr style=\"text-align: right;\">\n",
       "      <th></th>\n",
       "      <th>country</th>\n",
       "      <th>weekday_name</th>\n",
       "      <th>converted</th>\n",
       "    </tr>\n",
       "  </thead>\n",
       "  <tbody>\n",
       "    <tr>\n",
       "      <th>0</th>\n",
       "      <td>CA</td>\n",
       "      <td>Friday</td>\n",
       "      <td>0.117617</td>\n",
       "    </tr>\n",
       "    <tr>\n",
       "      <th>1</th>\n",
       "      <td>CA</td>\n",
       "      <td>Monday</td>\n",
       "      <td>0.129412</td>\n",
       "    </tr>\n",
       "    <tr>\n",
       "      <th>2</th>\n",
       "      <td>CA</td>\n",
       "      <td>Saturday</td>\n",
       "      <td>0.111226</td>\n",
       "    </tr>\n",
       "    <tr>\n",
       "      <th>3</th>\n",
       "      <td>CA</td>\n",
       "      <td>Sunday</td>\n",
       "      <td>0.121150</td>\n",
       "    </tr>\n",
       "    <tr>\n",
       "      <th>4</th>\n",
       "      <td>CA</td>\n",
       "      <td>Thursday</td>\n",
       "      <td>0.119494</td>\n",
       "    </tr>\n",
       "  </tbody>\n",
       "</table>\n",
       "</div>"
      ],
      "text/plain": [
       "  country weekday_name  converted\n",
       "0      CA       Friday   0.117617\n",
       "1      CA       Monday   0.129412\n",
       "2      CA     Saturday   0.111226\n",
       "3      CA       Sunday   0.121150\n",
       "4      CA     Thursday   0.119494"
      ]
     },
     "execution_count": 28,
     "metadata": {},
     "output_type": "execute_result"
    }
   ],
   "source": [
    "df_weekday = df.groupby(['country', 'weekday_name'],as_index=False)['converted'].mean()\n",
    "df_weekday.head()"
   ]
  },
  {
   "cell_type": "code",
   "execution_count": 29,
   "id": "1c7a624e",
   "metadata": {},
   "outputs": [
    {
     "data": {
      "text/html": [
       "<div>\n",
       "<style scoped>\n",
       "    .dataframe tbody tr th:only-of-type {\n",
       "        vertical-align: middle;\n",
       "    }\n",
       "\n",
       "    .dataframe tbody tr th {\n",
       "        vertical-align: top;\n",
       "    }\n",
       "\n",
       "    .dataframe thead th {\n",
       "        text-align: right;\n",
       "    }\n",
       "</style>\n",
       "<table border=\"1\" class=\"dataframe\">\n",
       "  <thead>\n",
       "    <tr style=\"text-align: right;\">\n",
       "      <th></th>\n",
       "      <th>country</th>\n",
       "      <th>am_pm</th>\n",
       "      <th>converted</th>\n",
       "    </tr>\n",
       "  </thead>\n",
       "  <tbody>\n",
       "    <tr>\n",
       "      <th>0</th>\n",
       "      <td>CA</td>\n",
       "      <td>AM</td>\n",
       "      <td>0.113636</td>\n",
       "    </tr>\n",
       "    <tr>\n",
       "      <th>1</th>\n",
       "      <td>CA</td>\n",
       "      <td>PM</td>\n",
       "      <td>0.117706</td>\n",
       "    </tr>\n",
       "    <tr>\n",
       "      <th>2</th>\n",
       "      <td>UK</td>\n",
       "      <td>AM</td>\n",
       "      <td>0.119249</td>\n",
       "    </tr>\n",
       "    <tr>\n",
       "      <th>3</th>\n",
       "      <td>UK</td>\n",
       "      <td>PM</td>\n",
       "      <td>0.121609</td>\n",
       "    </tr>\n",
       "    <tr>\n",
       "      <th>4</th>\n",
       "      <td>US</td>\n",
       "      <td>AM</td>\n",
       "      <td>0.118332</td>\n",
       "    </tr>\n",
       "  </tbody>\n",
       "</table>\n",
       "</div>"
      ],
      "text/plain": [
       "  country am_pm  converted\n",
       "0      CA    AM   0.113636\n",
       "1      CA    PM   0.117706\n",
       "2      UK    AM   0.119249\n",
       "3      UK    PM   0.121609\n",
       "4      US    AM   0.118332"
      ]
     },
     "execution_count": 29,
     "metadata": {},
     "output_type": "execute_result"
    }
   ],
   "source": [
    "df_ampm = df.groupby(['country', 'am_pm'],as_index=False)['converted'].mean()\n",
    "df_ampm.head()"
   ]
  },
  {
   "cell_type": "code",
   "execution_count": 30,
   "id": "7dbf76cc",
   "metadata": {},
   "outputs": [
    {
     "data": {
      "image/png": "[encoded data removed]",
      "text/plain": [
       "<Figure size 1200x400 with 2 Axes>"
      ]
     },
     "metadata": {},
     "output_type": "display_data"
    }
   ],
   "source": [
    "fig, ax = plt.subplots(1, 2, figsize=(12, 4))\n",
    "sns.barplot(x='weekday_name', y='converted', data=df_weekday, hue='country', ax=ax[0], palette='RdBu_r')\n",
    "ax[0].set_title('Conversion Rate on Each weekday')\n",
    "ax[0].set_xlabel('Weekday')\n",
    "ax[0].set_ylabel('Conversion Rate')\n",
    "ax[0].set_ylim([0.1,0.13])\n",
    "ax[0].legend(title=\"Conversion Rate\", ncol=3, fontsize='small', bbox_to_anchor=(0.5, 1.01))\n",
    "\n",
    "sns.barplot(x='am_pm', y='converted', data=df_ampm, hue='country', ax=ax[1], palette='RdBu_r')\n",
    "ax[1].set_title('Conversion Rate at AM/PM')\n",
    "ax[1].set_xlabel('AM/PM')\n",
    "ax[1].set_ylabel('Conversion Rate')\n",
    "ax[1].set_ylim([0.1,0.13])\n",
    "ax[1].legend(title=\"Conversion Rate\", ncol=3, fontsize='small', bbox_to_anchor=(0.5, 1.01))\n",
    "\n",
    "plt.show()"
   ]
  },
  {
   "cell_type": "code",
   "execution_count": 31,
   "id": "68c30fdc",
   "metadata": {},
   "outputs": [
    {
     "data": {
      "text/html": [
       "<div>\n",
       "<style scoped>\n",
       "    .dataframe tbody tr th:only-of-type {\n",
       "        vertical-align: middle;\n",
       "    }\n",
       "\n",
       "    .dataframe tbody tr th {\n",
       "        vertical-align: top;\n",
       "    }\n",
       "\n",
       "    .dataframe thead th {\n",
       "        text-align: right;\n",
       "    }\n",
       "</style>\n",
       "<table border=\"1\" class=\"dataframe\">\n",
       "  <thead>\n",
       "    <tr style=\"text-align: right;\">\n",
       "      <th></th>\n",
       "      <th>weekday_name</th>\n",
       "      <th>converted</th>\n",
       "    </tr>\n",
       "  </thead>\n",
       "  <tbody>\n",
       "    <tr>\n",
       "      <th>0</th>\n",
       "      <td>Friday</td>\n",
       "      <td>0.116563</td>\n",
       "    </tr>\n",
       "    <tr>\n",
       "      <th>1</th>\n",
       "      <td>Monday</td>\n",
       "      <td>0.121298</td>\n",
       "    </tr>\n",
       "    <tr>\n",
       "      <th>2</th>\n",
       "      <td>Saturday</td>\n",
       "      <td>0.120710</td>\n",
       "    </tr>\n",
       "    <tr>\n",
       "      <th>3</th>\n",
       "      <td>Sunday</td>\n",
       "      <td>0.118488</td>\n",
       "    </tr>\n",
       "    <tr>\n",
       "      <th>4</th>\n",
       "      <td>Thursday</td>\n",
       "      <td>0.119562</td>\n",
       "    </tr>\n",
       "    <tr>\n",
       "      <th>5</th>\n",
       "      <td>Tuesday</td>\n",
       "      <td>0.119450</td>\n",
       "    </tr>\n",
       "    <tr>\n",
       "      <th>6</th>\n",
       "      <td>Wednesday</td>\n",
       "      <td>0.119814</td>\n",
       "    </tr>\n",
       "  </tbody>\n",
       "</table>\n",
       "</div>"
      ],
      "text/plain": [
       "  weekday_name  converted\n",
       "0       Friday   0.116563\n",
       "1       Monday   0.121298\n",
       "2     Saturday   0.120710\n",
       "3       Sunday   0.118488\n",
       "4     Thursday   0.119562\n",
       "5      Tuesday   0.119450\n",
       "6    Wednesday   0.119814"
      ]
     },
     "execution_count": 31,
     "metadata": {},
     "output_type": "execute_result"
    }
   ],
   "source": [
    "df_weekday_all = df.groupby(['weekday_name'],as_index=False)['converted'].mean()\n",
    "df_weekday_all"
   ]
  },
  {
   "cell_type": "markdown",
   "id": "764f8606",
   "metadata": {},
   "source": [
    "It's quite surprising that users in CA have the highest conversion rate on Mondays! Regarding the AM/PM distinction, this poses a tricky question, as it's challenging to determine whether users browsing at 00:30 should be counted as AM or PM."
   ]
  },
  {
   "cell_type": "markdown",
   "id": "5e0d2f98",
   "metadata": {},
   "source": [
    "---\n",
    "## 4. Assess the outcome\n",
    "\n",
    "### 4.1 Hypothesis test\n",
    "\n",
    "Theoretically, we should choose a one-tailed test since the company aims to improve by 2%. However, since we do not know whether the UI change will perform better or worse than the old page, this assessment requires a two-tailed test.\n",
    "\n",
    "For this two tailed test:\n",
    "- Null hypothesis $H_0: P = P_0$\n",
    "- Alternative hypothesis: $H_\\alpha = P \\neq P_0$\n",
    "* $P_0$ and $P$ represent the conversion rates for the old and new pages respectively.\n",
    "\n",
    "\n",
    "\n",
    "### 4.2 Sample size\n",
    "\n",
    "Let us determine the sample size:\n",
    "$$N = \\frac{\\sigma^2}{\\delta^2}(Z_{1-\\frac{\\alpha}{2}}+Z_{1-\\beta})^2$$ \n",
    "- $ \\sigma^2 = P_A(1-P_A) + P_B(1-P_B) $\n",
    "- Critial value $\\alpha$: $\\alpha = 0.05$, setting a 95% confidence level that the new page has a better conversion rate before we can reject the null hypothesis\n",
    "- Power of the test $1-\\beta$: $\\beta$ = 0.2, indicating an 80% chance of detecting a statistically significant difference if the new page genuinely has a better conversion rate."
   ]
  },
  {
   "cell_type": "code",
   "execution_count": 32,
   "id": "3d523154",
   "metadata": {},
   "outputs": [
    {
     "name": "stdout",
     "output_type": "stream",
     "text": [
      "How many samples we need for each group?  4720.0\n"
     ]
    }
   ],
   "source": [
    "import scipy.stats as stats\n",
    "import statsmodels.stats.api as sms\n",
    "\n",
    "# PA = 0.13, PB = 0.15\n",
    "effect_size = sms.proportion_effectsize(0.13, 0.15)\n",
    "required_n = sms.NormalIndPower().solve_power(effect_size, power=0.8, alpha=0.05, ratio=1)\n",
    "print(\"How many samples we need for each group? \", np.ceil(required_n))"
   ]
  },
  {
   "cell_type": "markdown",
   "id": "98c94ab7",
   "metadata": {},
   "source": [
    "Let us use 5000 as sample size."
   ]
  },
  {
   "cell_type": "code",
   "execution_count": 33,
   "id": "a21f3e5f",
   "metadata": {},
   "outputs": [],
   "source": [
    "required_n = 5000\n",
    "def sample_group_conversion(required_n, df):\n",
    "    control_sample = df[df['group'] == 'control'].sample(n=required_n, random_state=22)\n",
    "    treatment_sample = df[df['group'] == 'treatment'].sample(n=required_n, random_state=22)\n",
    "    # combine two groups into one dataframe\n",
    "    ab_test = pd.concat([control_sample, treatment_sample], axis=0)\n",
    "    ab_test.reset_index(drop=True, inplace=True)\n",
    "    # check each group again\n",
    "    check_ab_test = pd.crosstab(ab_test['group'], ab_test['landing_page'])\n",
    "    # calculate the mean conversion rate\n",
    "    conversion_rate = ab_test.groupby('group')['converted'].agg([np.mean, np.std])\n",
    "    conversion_rate.columns = ['conversion_rate', 'std_deviation']\n",
    "    \n",
    "    return ab_test, check_ab_test, conversion_rate"
   ]
  },
  {
   "cell_type": "code",
   "execution_count": 34,
   "id": "b2d62967",
   "metadata": {},
   "outputs": [
    {
     "data": {
      "text/html": [
       "<div>\n",
       "<style scoped>\n",
       "    .dataframe tbody tr th:only-of-type {\n",
       "        vertical-align: middle;\n",
       "    }\n",
       "\n",
       "    .dataframe tbody tr th {\n",
       "        vertical-align: top;\n",
       "    }\n",
       "\n",
       "    .dataframe thead th {\n",
       "        text-align: right;\n",
       "    }\n",
       "</style>\n",
       "<table border=\"1\" class=\"dataframe\">\n",
       "  <thead>\n",
       "    <tr style=\"text-align: right;\">\n",
       "      <th>landing_page</th>\n",
       "      <th>new_page</th>\n",
       "      <th>old_page</th>\n",
       "    </tr>\n",
       "    <tr>\n",
       "      <th>group</th>\n",
       "      <th></th>\n",
       "      <th></th>\n",
       "    </tr>\n",
       "  </thead>\n",
       "  <tbody>\n",
       "    <tr>\n",
       "      <th>control</th>\n",
       "      <td>0</td>\n",
       "      <td>5000</td>\n",
       "    </tr>\n",
       "    <tr>\n",
       "      <th>treatment</th>\n",
       "      <td>5000</td>\n",
       "      <td>0</td>\n",
       "    </tr>\n",
       "  </tbody>\n",
       "</table>\n",
       "</div>"
      ],
      "text/plain": [
       "landing_page  new_page  old_page\n",
       "group                           \n",
       "control              0      5000\n",
       "treatment         5000         0"
      ]
     },
     "execution_count": 34,
     "metadata": {},
     "output_type": "execute_result"
    }
   ],
   "source": [
    "ab_test, check_ab_test, conversion_rate = sample_group_conversion(required_n, df)\n",
    "check_ab_test"
   ]
  },
  {
   "cell_type": "code",
   "execution_count": 35,
   "id": "08009bef",
   "metadata": {},
   "outputs": [
    {
     "data": {
      "text/html": [
       "<div>\n",
       "<style scoped>\n",
       "    .dataframe tbody tr th:only-of-type {\n",
       "        vertical-align: middle;\n",
       "    }\n",
       "\n",
       "    .dataframe tbody tr th {\n",
       "        vertical-align: top;\n",
       "    }\n",
       "\n",
       "    .dataframe thead th {\n",
       "        text-align: right;\n",
       "    }\n",
       "</style>\n",
       "<table border=\"1\" class=\"dataframe\">\n",
       "  <thead>\n",
       "    <tr style=\"text-align: right;\">\n",
       "      <th></th>\n",
       "      <th>conversion_rate</th>\n",
       "      <th>std_deviation</th>\n",
       "    </tr>\n",
       "    <tr>\n",
       "      <th>group</th>\n",
       "      <th></th>\n",
       "      <th></th>\n",
       "    </tr>\n",
       "  </thead>\n",
       "  <tbody>\n",
       "    <tr>\n",
       "      <th>control</th>\n",
       "      <td>0.1232</td>\n",
       "      <td>0.328700</td>\n",
       "    </tr>\n",
       "    <tr>\n",
       "      <th>treatment</th>\n",
       "      <td>0.1266</td>\n",
       "      <td>0.332558</td>\n",
       "    </tr>\n",
       "  </tbody>\n",
       "</table>\n",
       "</div>"
      ],
      "text/plain": [
       "           conversion_rate  std_deviation\n",
       "group                                    \n",
       "control             0.1232       0.328700\n",
       "treatment           0.1266       0.332558"
      ]
     },
     "execution_count": 35,
     "metadata": {},
     "output_type": "execute_result"
    }
   ],
   "source": [
    "conversion_rate"
   ]
  },
  {
   "cell_type": "code",
   "execution_count": 36,
   "id": "0ad0aec8",
   "metadata": {},
   "outputs": [
    {
     "data": {
      "image/png": "[encoded data removed]",
      "text/plain": [
       "<Figure size 400x300 with 1 Axes>"
      ]
     },
     "metadata": {},
     "output_type": "display_data"
    }
   ],
   "source": [
    "fig, ax = plt.subplots(1, 1, figsize=(4,3))\n",
    "sns.barplot(x='group', y='converted', data=ab_test, hue = 'group',errorbar=('ci', False))\n",
    "plt.ylim(0.1, 0.13)\n",
    "plt.title('Group Conversion Rate')\n",
    "plt.xlabel('Group')\n",
    "plt.ylabel('Conversion Rate')\n",
    "plt.show()"
   ]
  },
  {
   "cell_type": "markdown",
   "id": "8eb2c1d1",
   "metadata": {},
   "source": [
    "The treatment group that visited the new page has a 0.3% higher conversion rate than the control group. However, is this difference statistically significant?"
   ]
  },
  {
   "cell_type": "markdown",
   "id": "fa493b5c",
   "metadata": {},
   "source": [
    "### 4.3 Z-test\n",
    "\n",
    "Since we have a large sample size, we choose the Z-test."
   ]
  },
  {
   "cell_type": "code",
   "execution_count": 37,
   "id": "11fa782c",
   "metadata": {},
   "outputs": [],
   "source": [
    "from statsmodels.stats.proportion import proportions_ztest, proportion_confint\n",
    "\n",
    "def hypotheses_test(ab_test):\n",
    "    control_results = ab_test[ab_test['group'] == 'control']['converted']\n",
    "    treatment_results = ab_test[ab_test['group'] == 'treatment']['converted']\n",
    "    # counts in control group\n",
    "    n_con = control_results.count()\n",
    "    # counts in treatment group\n",
    "    n_treat = treatment_results.count()\n",
    "    # since successful is 1, use sum to calculate payments\n",
    "    successes = [control_results.sum(), treatment_results.sum()]\n",
    "    # nobs are total counts in each group\n",
    "    nobs = [n_con, n_treat]\n",
    "    # perform z-test\n",
    "    z_stat, pval = proportions_ztest(successes, nobs = nobs)\n",
    "    # two ends of confidence interval for control and treatment groups\n",
    "    (lower_con, lower_treat), (upper_con, upper_treat) = proportion_confint(successes, nobs = nobs, alpha=0.05)\n",
    "    \n",
    "    return z_stat, pval, lower_con, upper_con, lower_treat, upper_treat"
   ]
  },
  {
   "cell_type": "code",
   "execution_count": 38,
   "id": "40bc026b",
   "metadata": {},
   "outputs": [
    {
     "name": "stdout",
     "output_type": "stream",
     "text": [
      "z_stat: -0.51\n",
      "p-value: 0.61\n",
      "CI 95% for control: [0.114, 0.132]\n",
      "CI 95% for treatment: [0.117, 0.136]\n"
     ]
    }
   ],
   "source": [
    "z_stat_all, pval_all, lower_con_all, upper_con_all, lower_treat_all, upper_treat_all = hypotheses_test(ab_test)\n",
    "\n",
    "print(f'z_stat: {z_stat_all:.2f}')\n",
    "print(f'p-value: {pval_all:.2f}')\n",
    "print(f'CI 95% for control: [{lower_con_all:.3f}, {upper_con_all:.3f}]')\n",
    "print(f'CI 95% for treatment: [{lower_treat_all:.3f}, {upper_treat_all:.3f}]')"
   ]
  },
  {
   "cell_type": "markdown",
   "id": "f84956be",
   "metadata": {},
   "source": [
    "Oops...    \n",
    "p-value=0.61, which is higher than $\\alpha$, i.e., 0.05    \n",
    "CI 95% for treatment includes 13%"
   ]
  },
  {
   "cell_type": "markdown",
   "id": "5ab846ec",
   "metadata": {},
   "source": [
    "### 4.3 Hypothesis test for Different Countries\n",
    "\n",
    "First, we need to ensure that each country has an enough sample size to perform the hypothesis test."
   ]
  },
  {
   "cell_type": "code",
   "execution_count": 39,
   "id": "1ea475fc",
   "metadata": {},
   "outputs": [
    {
     "name": "stdout",
     "output_type": "stream",
     "text": [
      "How many data points we have for users in each country and group?\n"
     ]
    },
    {
     "data": {
      "text/html": [
       "<div>\n",
       "<style scoped>\n",
       "    .dataframe tbody tr th:only-of-type {\n",
       "        vertical-align: middle;\n",
       "    }\n",
       "\n",
       "    .dataframe tbody tr th {\n",
       "        vertical-align: top;\n",
       "    }\n",
       "\n",
       "    .dataframe thead th {\n",
       "        text-align: right;\n",
       "    }\n",
       "</style>\n",
       "<table border=\"1\" class=\"dataframe\">\n",
       "  <thead>\n",
       "    <tr style=\"text-align: right;\">\n",
       "      <th></th>\n",
       "      <th>country</th>\n",
       "      <th>group</th>\n",
       "      <th>user_id</th>\n",
       "    </tr>\n",
       "  </thead>\n",
       "  <tbody>\n",
       "    <tr>\n",
       "      <th>0</th>\n",
       "      <td>CA</td>\n",
       "      <td>control</td>\n",
       "      <td>7094</td>\n",
       "    </tr>\n",
       "    <tr>\n",
       "      <th>1</th>\n",
       "      <td>CA</td>\n",
       "      <td>treatment</td>\n",
       "      <td>7209</td>\n",
       "    </tr>\n",
       "    <tr>\n",
       "      <th>2</th>\n",
       "      <td>UK</td>\n",
       "      <td>control</td>\n",
       "      <td>35883</td>\n",
       "    </tr>\n",
       "    <tr>\n",
       "      <th>3</th>\n",
       "      <td>UK</td>\n",
       "      <td>treatment</td>\n",
       "      <td>35630</td>\n",
       "    </tr>\n",
       "    <tr>\n",
       "      <th>4</th>\n",
       "      <td>US</td>\n",
       "      <td>control</td>\n",
       "      <td>100316</td>\n",
       "    </tr>\n",
       "    <tr>\n",
       "      <th>5</th>\n",
       "      <td>US</td>\n",
       "      <td>treatment</td>\n",
       "      <td>100558</td>\n",
       "    </tr>\n",
       "  </tbody>\n",
       "</table>\n",
       "</div>"
      ],
      "text/plain": [
       "  country      group  user_id\n",
       "0      CA    control     7094\n",
       "1      CA  treatment     7209\n",
       "2      UK    control    35883\n",
       "3      UK  treatment    35630\n",
       "4      US    control   100316\n",
       "5      US  treatment   100558"
      ]
     },
     "execution_count": 39,
     "metadata": {},
     "output_type": "execute_result"
    }
   ],
   "source": [
    "print(\"How many data points we have for users in each country and group?\")\n",
    "df_3country = df.groupby(['country','group'], as_index=False)['user_id'].nunique()\n",
    "df_3country"
   ]
  },
  {
   "cell_type": "markdown",
   "id": "564e084b",
   "metadata": {},
   "source": [
    "The aforementioned effect size is 4720, indicating that we can apply the same test across all three countries."
   ]
  },
  {
   "cell_type": "code",
   "execution_count": 40,
   "id": "ded5c6e7",
   "metadata": {},
   "outputs": [],
   "source": [
    "df_ca = df[df['country']=='CA']\n",
    "df_uk = df[df['country']=='UK']\n",
    "df_us = df[df['country']=='US']\n",
    "\n",
    "ab_test_ca, check_ab_test_ca, conversion_rate_ca = sample_group_conversion(required_n, df_ca)\n",
    "ab_test_uk, check_ab_test_uk, conversion_rate_uk = sample_group_conversion(required_n, df_uk)\n",
    "ab_test_us, check_ab_test_us, conversion_rate_us = sample_group_conversion(required_n, df_us)"
   ]
  },
  {
   "cell_type": "code",
   "execution_count": 41,
   "id": "e244c0b9",
   "metadata": {},
   "outputs": [
    {
     "data": {
      "image/png": "[encoded data removed]",
      "text/plain": [
       "<Figure size 1200x300 with 3 Axes>"
      ]
     },
     "metadata": {},
     "output_type": "display_data"
    }
   ],
   "source": [
    "fig, ax = plt.subplots(1, 3, figsize=(12,3))\n",
    "sns.barplot(x='group', y='converted', data=ab_test_ca, hue = 'group',errorbar=('ci', False), ax=ax[0])\n",
    "ax[0].set_ylim([0.1, 0.13])\n",
    "ax[0].set_title('Group Conversion Rate for CA')\n",
    "ax[0].set_xlabel('Group')\n",
    "ax[0].set_ylabel('Conversion Rate')\n",
    "\n",
    "sns.barplot(x='group', y='converted', data=ab_test_uk, hue = 'group',errorbar=('ci', False), ax=ax[1])\n",
    "ax[1].set_ylim([0.1, 0.13])\n",
    "ax[1].set_title('Group Conversion Rate for UK')\n",
    "ax[1].set_xlabel('Group')\n",
    "ax[1].set_ylabel('Conversion Rate')\n",
    "\n",
    "sns.barplot(x='group', y='converted', data=ab_test_us, hue = 'group',errorbar=('ci', False), ax=ax[2])\n",
    "ax[2].set_ylim([0.1, 0.13])\n",
    "ax[2].set_title('Group Conversion Rate for US')\n",
    "ax[2].set_xlabel('Group')\n",
    "ax[2].set_ylabel('Conversion Rate')\n",
    "\n",
    "plt.tight_layout()\n",
    "plt.show()"
   ]
  },
  {
   "cell_type": "markdown",
   "id": "4906df76",
   "metadata": {},
   "source": [
    "It looks like UK users may have a postive result!"
   ]
  },
  {
   "cell_type": "code",
   "execution_count": 42,
   "id": "b38afda4",
   "metadata": {},
   "outputs": [
    {
     "name": "stdout",
     "output_type": "stream",
     "text": [
      "Hypotheis test for CA users:\n",
      "z_stat: 1.16\n",
      "p-value: 0.25\n",
      "CI 95% for control: [0.109, 0.127]\n",
      "CI 95% for treatment: [0.102, 0.120]\n",
      "\n",
      "Hypotheis test for UK users:\n",
      "z_stat: -1.61\n",
      "p-value: 0.11\n",
      "CI 95% for control: [0.104, 0.122]\n",
      "CI 95% for treatment: [0.114, 0.133]\n",
      "\n",
      "Hypotheis test for US users:\n",
      "z_stat: -0.13\n",
      "p-value: 0.90\n",
      "CI 95% for control: [0.106, 0.123]\n",
      "CI 95% for treatment: [0.107, 0.124]\n"
     ]
    }
   ],
   "source": [
    "z_stat_ca, pval_ca, lower_con_ca, upper_con_ca, lower_treat_ca, upper_treat_ca = hypotheses_test(ab_test_ca)\n",
    "print('Hypotheis test for CA users:')\n",
    "print(f'z_stat: {z_stat_ca:.2f}')\n",
    "print(f'p-value: {pval_ca:.2f}')\n",
    "print(f'CI 95% for control: [{lower_con_ca:.3f}, {upper_con_ca:.3f}]')\n",
    "print(f'CI 95% for treatment: [{lower_treat_ca:.3f}, {upper_treat_ca:.3f}]')\n",
    "\n",
    "z_stat_uk, pval_uk, lower_con_uk, upper_con_uk, lower_treat_uk, upper_treat_uk = hypotheses_test(ab_test_uk)\n",
    "\n",
    "print('\\nHypotheis test for UK users:')\n",
    "print(f'z_stat: {z_stat_uk:.2f}')\n",
    "print(f'p-value: {pval_uk:.2f}')\n",
    "print(f'CI 95% for control: [{lower_con_uk:.3f}, {upper_con_uk:.3f}]')\n",
    "print(f'CI 95% for treatment: [{lower_treat_uk:.3f}, {upper_treat_uk:.3f}]')\n",
    "\n",
    "z_stat_us, pval_us, lower_con_us, upper_con_us, lower_treat_us, upper_treat_us = hypotheses_test(ab_test_us)\n",
    "\n",
    "print('\\nHypotheis test for US users:')\n",
    "print(f'z_stat: {z_stat_us:.2f}')\n",
    "print(f'p-value: {pval_us:.2f}')\n",
    "print(f'CI 95% for control: [{lower_con_us:.3f}, {upper_con_us:.3f}]')\n",
    "print(f'CI 95% for treatment: [{lower_treat_us:.3f}, {upper_treat_us:.3f}]')"
   ]
  },
  {
   "cell_type": "markdown",
   "id": "117d9181",
   "metadata": {},
   "source": [
    "It seems worse in CA now."
   ]
  },
  {
   "cell_type": "markdown",
   "id": "0622b1f7",
   "metadata": {},
   "source": [
    "---\n",
    "## Summary\n",
    "\n",
    "Note that we can accept the alternative hypothesis only when the p-value is less than the critical value. However, this result indicates that the p-value of 0.61 exceeds the significance level ($\\alpha$=0.05), leading us to **fail to reject** the null hypothesis $H_0$. This suggests that the new UI design does not significantly differ from the old one nor does it perform better. Additionally, the confidence interval for the treatment group includes the original average conversion rate of 13% but does not reach our target of 15%. Consequently, the new page is effectively similar to the old one and fails to improve the conversion rate.\n",
    "\n",
    "When analyzed by country, the treatment group appears to have a slightly higher conversion rate for UK users, nearly no change for US users, and a decrease for CA users. However, all p-values exceed α, indicating no statistical significance that the new page improves conversions to product payments. Therefore, this e-commerce company should consider either redesigning their webpage or maintaining the current one."
   ]
  },
  {
   "cell_type": "code",
   "execution_count": null,
   "id": "d3c00e8f",
   "metadata": {},
   "outputs": [],
   "source": []
  }
 ],
 "metadata": {
  "kernelspec": {
   "display_name": "Python 3 (ipykernel)",
   "language": "python",
   "name": "python3"
  },
  "language_info": {
   "codemirror_mode": {
    "name": "ipython",
    "version": 3
   },
   "file_extension": ".py",
   "mimetype": "text/x-python",
   "name": "python",
   "nbconvert_exporter": "python",
   "pygments_lexer": "ipython3",
   "version": "3.8.10"
  }
 },
 "nbformat": 4,
 "nbformat_minor": 5
}
